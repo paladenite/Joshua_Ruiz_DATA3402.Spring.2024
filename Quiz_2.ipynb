{
 "cells": [
  {
   "cell_type": "code",
   "execution_count": 4,
   "id": "04550e27-39ee-401d-a7fa-f10361c53359",
   "metadata": {},
   "outputs": [
    {
     "name": "stdout",
     "output_type": "stream",
     "text": [
      "('Clubs', '2')\n",
      "('Clubs', '3')\n",
      "('Clubs', '4')\n",
      "('Clubs', '5')\n",
      "('Clubs', '6')\n",
      "('Clubs', '7')\n",
      "('Clubs', '8')\n",
      "('Clubs', '9')\n",
      "('Clubs', '10')\n",
      "('Clubs', 'Jack')\n",
      "('Clubs', 'Queen')\n",
      "('Clubs', 'King')\n",
      "('Clubs', 'Ace')\n",
      "('Diamonds', '2')\n",
      "('Diamonds', '3')\n",
      "('Diamonds', '4')\n",
      "('Diamonds', '5')\n",
      "('Diamonds', '6')\n",
      "('Diamonds', '7')\n",
      "('Diamonds', '8')\n",
      "('Diamonds', '9')\n",
      "('Diamonds', '10')\n",
      "('Diamonds', 'Jack')\n",
      "('Diamonds', 'Queen')\n",
      "('Diamonds', 'King')\n",
      "('Diamonds', 'Ace')\n",
      "('Hearts', '2')\n",
      "('Hearts', '3')\n",
      "('Hearts', '4')\n",
      "('Hearts', '5')\n",
      "('Hearts', '6')\n",
      "('Hearts', '7')\n",
      "('Hearts', '8')\n",
      "('Hearts', '9')\n",
      "('Hearts', '10')\n",
      "('Hearts', 'Jack')\n",
      "('Hearts', 'Queen')\n",
      "('Hearts', 'King')\n",
      "('Hearts', 'Ace')\n",
      "('Spades', '2')\n",
      "('Spades', '3')\n",
      "('Spades', '4')\n",
      "('Spades', '5')\n",
      "('Spades', '6')\n",
      "('Spades', '7')\n",
      "('Spades', '8')\n",
      "('Spades', '9')\n",
      "('Spades', '10')\n",
      "('Spades', 'Jack')\n",
      "('Spades', 'Queen')\n",
      "('Spades', 'King')\n",
      "('Spades', 'Ace')\n"
     ]
    }
   ],
   "source": [
    "def deck():\n",
    "    suit = ['Clubs', 'Diamonds', 'Hearts', 'Spades']\n",
    "    values = ['2', '3', '4', '5', '6', '7', '8', '9', '10', 'Jack', 'Queen', 'King', 'Ace']\n",
    "    deck = [(suits, value) for suits in suit for value in values]\n",
    "    return deck\n",
    "\n",
    "deck1 = deck()\n",
    "for card in deck1:\n",
    "    print(card)"
   ]
  },
  {
   "cell_type": "code",
   "execution_count": null,
   "id": "b31f03bc-faa4-46fa-be40-351e02cc1c31",
   "metadata": {},
   "outputs": [],
   "source": []
  }
 ],
 "metadata": {
  "kernelspec": {
   "display_name": "Python 3 (ipykernel)",
   "language": "python",
   "name": "python3"
  },
  "language_info": {
   "codemirror_mode": {
    "name": "ipython",
    "version": 3
   },
   "file_extension": ".py",
   "mimetype": "text/x-python",
   "name": "python",
   "nbconvert_exporter": "python",
   "pygments_lexer": "ipython3",
   "version": "3.8.10"
  }
 },
 "nbformat": 4,
 "nbformat_minor": 5
}
