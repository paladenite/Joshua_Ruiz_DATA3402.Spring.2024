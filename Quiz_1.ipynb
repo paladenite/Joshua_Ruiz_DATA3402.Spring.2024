{
 "cells": [
  {
   "cell_type": "markdown",
   "id": "67765e5f-89c2-4d30-825d-98b5908d869b",
   "metadata": {},
   "source": [
    "Quick Quiz\r\n",
    "Can you rewrite create_new_args as a two lines of code using functional programming, list comprehensions, and shortcuts? How about a single line?"
   ]
  },
  {
   "cell_type": "code",
   "execution_count": 1,
   "id": "71b5b163-f013-4ad5-aefd-a31b01d31430",
   "metadata": {},
   "outputs": [],
   "source": [
    "def create_new_args_0(args):\n",
    "    max_len = max(map(len,\n",
    "                      filter(lambda x: isinstance(x,list),\n",
    "                        args)))\n",
    "\n",
    "    # Rewrite this section:\n",
    "    new_args=list()\n",
    "\n",
    "    for a in args:\n",
    "        if not isinstance(a,list):\n",
    "            a0=[a]*max_len\n",
    "        elif len(a)!=max_len:\n",
    "            print(\"Error: all list arguments must have same length.\")\n",
    "            return\n",
    "        else:\n",
    "            a0=a\n",
    "        new_args.append(a0)\n",
    "\n",
    "    return new_args"
   ]
  },
  {
   "cell_type": "code",
   "execution_count": 2,
   "id": "c4942351-80c2-4e20-81b8-a50fc2e27717",
   "metadata": {},
   "outputs": [
    {
     "data": {
      "text/plain": [
       "[[1, 2], [3, 4], [5, 5]]"
      ]
     },
     "execution_count": 2,
     "metadata": {},
     "output_type": "execute_result"
    }
   ],
   "source": [
    "create_new_args_0([[1,2],[3,4],5])"
   ]
  },
  {
   "cell_type": "code",
   "execution_count": 3,
   "id": "00eadf2a-50d4-4baf-9c11-de20f4aa643b",
   "metadata": {},
   "outputs": [
    {
     "name": "stdout",
     "output_type": "stream",
     "text": [
      "Error: all list arguments must have same length.\n"
     ]
    }
   ],
   "source": [
    "create_new_args_0([[1,2],[3,4,5],5])"
   ]
  },
  {
   "cell_type": "code",
   "execution_count": 4,
   "id": "d6900c5f-3cd9-4166-b51d-ee3355f51423",
   "metadata": {},
   "outputs": [],
   "source": [
    "def create_new_args_0(args):\n",
    "    max_len = max(map(len, filter(lambda x: isinstance(x, list), args)))\n",
    "    new_args = [a if isinstance(a, list) and len(a) == max_len else [a] * max_len for a in args]\n",
    "\n",
    "    return new_args"
   ]
  },
  {
   "cell_type": "code",
   "execution_count": 5,
   "id": "474ebe83-e550-4c79-93bf-a5a34e08980b",
   "metadata": {},
   "outputs": [
    {
     "data": {
      "text/plain": [
       "[[1, 2], [3, 4], [5, 5]]"
      ]
     },
     "execution_count": 5,
     "metadata": {},
     "output_type": "execute_result"
    }
   ],
   "source": [
    "create_new_args_0([[1,2],[3,4],5])"
   ]
  },
  {
   "cell_type": "code",
   "execution_count": 6,
   "id": "283f1455-e916-41b2-a071-1a04968df8a0",
   "metadata": {},
   "outputs": [
    {
     "data": {
      "text/plain": [
       "[[[1, 2], [1, 2], [1, 2]], [3, 4, 5], [5, 5, 5]]"
      ]
     },
     "execution_count": 6,
     "metadata": {},
     "output_type": "execute_result"
    }
   ],
   "source": [
    "create_new_args_0([[1,2],[3,4,5],5])"
   ]
  },
  {
   "cell_type": "code",
   "execution_count": 7,
   "id": "1048f8ab-7937-4629-803c-52b7dbaddc25",
   "metadata": {},
   "outputs": [],
   "source": [
    "def create_new_args_0(args):\n",
    "    new_args = [[a] * max_len if not isinstance(a, list) else a if len(a) == max_len else [print(\"Error: all list arguments must have same length.\")][0] for a in args if isinstance(a, list)] if args and all(isinstance(a, list) for a in args) else []\n",
    "\n",
    "    return new_args"
   ]
  },
  {
   "cell_type": "code",
   "execution_count": 8,
   "id": "e97be4b4-bfe5-4690-ace1-fcfc01cc2346",
   "metadata": {},
   "outputs": [
    {
     "data": {
      "text/plain": [
       "[]"
      ]
     },
     "execution_count": 8,
     "metadata": {},
     "output_type": "execute_result"
    }
   ],
   "source": [
    "create_new_args_0([[1,2],[3,4],5])"
   ]
  },
  {
   "cell_type": "code",
   "execution_count": 9,
   "id": "0babad40-ffce-4b1a-8cff-222f1784b13b",
   "metadata": {},
   "outputs": [
    {
     "data": {
      "text/plain": [
       "[]"
      ]
     },
     "execution_count": 9,
     "metadata": {},
     "output_type": "execute_result"
    }
   ],
   "source": [
    "create_new_args_0([[1,2],[3,4,5],5])"
   ]
  },
  {
   "cell_type": "code",
   "execution_count": null,
   "id": "d6ae410b-c6ca-4769-95a7-472c58ba2842",
   "metadata": {},
   "outputs": [],
   "source": []
  }
 ],
 "metadata": {
  "kernelspec": {
   "display_name": "Python 3 (ipykernel)",
   "language": "python",
   "name": "python3"
  },
  "language_info": {
   "codemirror_mode": {
    "name": "ipython",
    "version": 3
   },
   "file_extension": ".py",
   "mimetype": "text/x-python",
   "name": "python",
   "nbconvert_exporter": "python",
   "pygments_lexer": "ipython3",
   "version": "3.8.10"
  }
 },
 "nbformat": 4,
 "nbformat_minor": 5
}
