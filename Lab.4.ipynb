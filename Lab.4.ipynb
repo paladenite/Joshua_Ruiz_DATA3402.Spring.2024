{
 "cells": [
  {
   "cell_type": "markdown",
   "metadata": {},
   "source": [
    "# Lab 4- Object Oriented Programming\n",
    "\n",
    "For all of the exercises below, make sure you provide tests of your solutions.\n"
   ]
  },
  {
   "cell_type": "markdown",
   "metadata": {},
   "source": [
    "1. Write a \"counter\" class that can be incremented up to a specified maximum value, will print an error if an attempt is made to increment beyond that value, and allows reseting the counter. "
   ]
  },
  {
   "cell_type": "code",
   "execution_count": 1,
   "metadata": {},
   "outputs": [
    {
     "data": {
      "text/plain": [
       "7"
      ]
     },
     "execution_count": 1,
     "metadata": {},
     "output_type": "execute_result"
    }
   ],
   "source": [
    "import math\n",
    "class counter:\n",
    "    count = 0\n",
    "    def __init__(self):\n",
    "        if counter != 10:\n",
    "            counter.count += 1\n",
    "        else:\n",
    "            counter.count = 0\n",
    "            print(\"Counter has reached max.\")\n",
    "        \n",
    "\n",
    "a = counter()\n",
    "a = counter()\n",
    "a = counter()\n",
    "a = counter()\n",
    "a = counter()\n",
    "a = counter()\n",
    "b = counter()\n",
    "counter.count"
   ]
  },
  {
   "cell_type": "markdown",
   "metadata": {},
   "source": [
    "2. Copy and paste your solution to question 1 and modify it so that all the data held by the counter is private. Implement functions to check the value of the counter, check the maximum value, and check if the counter is at the maximum."
   ]
  },
  {
   "cell_type": "code",
   "execution_count": 2,
   "metadata": {},
   "outputs": [
    {
     "name": "stdout",
     "output_type": "stream",
     "text": [
      "1\n",
      "2\n",
      "3\n",
      "1\n"
     ]
    }
   ],
   "source": [
    "class counter:\n",
    "    \n",
    "    def __init__(self, a):\n",
    "        self.__count = 0\n",
    "\n",
    "    def counting(self):\n",
    "        if self.__count != 10:\n",
    "            self.__count += 1\n",
    "            print(self.__count)\n",
    "        else:\n",
    "            self.__count = 0\n",
    "            print(\"Counter has reached max.\")\n",
    "        \n",
    "a = counter(10)\n",
    "a.counting()\n",
    "a.counting()\n",
    "a.counting()\n",
    "b = counter(9)\n",
    "b.counting()"
   ]
  },
  {
   "cell_type": "markdown",
   "metadata": {},
   "source": [
    "3. Implement a class to represent a rectangle, holding the length, width, and $x$ and $y$ coordinates of a corner of the object. Implement functions that compute the area and perimeter of the rectangle. Make all data members private and privide accessors to retrieve values of data members. "
   ]
  },
  {
   "cell_type": "code",
   "execution_count": 5,
   "metadata": {},
   "outputs": [
    {
     "name": "stdout",
     "output_type": "stream",
     "text": [
      "The area is: 42\n",
      "The perimeter is: 26\n",
      "Location of origin at: ( 4 , 5 )\n"
     ]
    }
   ],
   "source": [
    "class rectangle:\n",
    "    def __init__(self, x, y, a, b):\n",
    "        super().__init__()\n",
    "        origin.__init__(self, x, y)\n",
    "        self.__a = a\n",
    "        self.__b = b\n",
    "\n",
    "    def coords(self):\n",
    "        return origin.coords(self)\n",
    "        \n",
    "    def perimeter(self):\n",
    "        return print(\"The perimeter is:\", 2*self.__a + 2*self.__b)\n",
    "\n",
    "    def area(self):\n",
    "        return print(\"The area is:\", self.__a*self.__b)\n",
    "\n",
    "rectangle1 = rectangle(4,5,6,7)\n",
    "\n",
    "rectangle1.area()\n",
    "rectangle1.perimeter()\n",
    "rectangle1.coords()"
   ]
  },
  {
   "cell_type": "markdown",
   "metadata": {},
   "source": [
    "4. Implement a class to represent a circle, holding the radius and $x$ and $y$ coordinates of center of the object. Implement functions that compute the area and perimeter of the rectangle. Make all data members private and privide accessors to retrieve values of data members. "
   ]
  },
  {
   "cell_type": "code",
   "execution_count": 6,
   "metadata": {},
   "outputs": [
    {
     "name": "stdout",
     "output_type": "stream",
     "text": [
      "The area is: 113.09733552923255\n",
      "The radius is:  6\n",
      "The perimeter is: 37.69911184307752\n",
      "Location of origin at: ( 4 , 5 )\n"
     ]
    }
   ],
   "source": [
    "class circle:\n",
    "    def __init__(self, x, y, r):\n",
    "        super().__init__()\n",
    "        origin.__init__(self, x, y)\n",
    "        self.__r = r\n",
    "\n",
    "    def coords(self):\n",
    "        return origin.coords(self)\n",
    "\n",
    "    def radius(self):\n",
    "        return print(\"The radius is: \", self.__r)\n",
    "\n",
    "    def perimeter(self):\n",
    "        return print(\"The perimeter is:\", 2*math.pi*self.__r)\n",
    "\n",
    "    def area(self):\n",
    "        return print(\"The area is:\", math.pi*self.__r**2)\n",
    "\n",
    "circle1 = circle(4,5,6)\n",
    "\n",
    "circle1.area()\n",
    "circle1.radius()\n",
    "circle1.perimeter()\n",
    "circle1.coords()"
   ]
  },
  {
   "cell_type": "markdown",
   "metadata": {},
   "source": [
    "5. Implement a common base class for the classes implemented in 3 and 4 above which implements all common methods as not implemented functions (virtual). Re-implement those classes to inherit from the base class and overload the functions accordingly. "
   ]
  },
  {
   "cell_type": "code",
   "execution_count": 4,
   "metadata": {},
   "outputs": [],
   "source": [
    "class origin:\n",
    "    def __init__(self, x, y):\n",
    "        self.__x = x\n",
    "        self.__y = y\n",
    "        \n",
    "    def area(self):\n",
    "        raise NotImplementedError\n",
    "\n",
    "    def perimeter(self):\n",
    "        raise NotImplementedError\n",
    "\n",
    "    def radius(self):\n",
    "        raise NotImplementedError\n",
    "\n",
    "    def coords(self):\n",
    "        return print(\"Location of origin at: (\",  self.__x, \",\", self.__y, \")\")"
   ]
  },
  {
   "cell_type": "markdown",
   "metadata": {},
   "source": [
    "6. Implement an analogous triangle class."
   ]
  },
  {
   "cell_type": "code",
   "execution_count": 9,
   "metadata": {},
   "outputs": [
    {
     "name": "stdout",
     "output_type": "stream",
     "text": [
      "The area is: 21.0\n",
      "The perimeter is: 22.219544457292887\n",
      "Location of origin at: ( 4 , 5 )\n"
     ]
    }
   ],
   "source": [
    "class triangle:\n",
    "    def __init__(self, x, y, b, h):\n",
    "        super().__init__()\n",
    "        origin.__init__(self, x, y)\n",
    "        self.__b = b\n",
    "        self.__h = h\n",
    "        self.__x1 = x + b\n",
    "        self.__y1 = y + h\n",
    "\n",
    "    def coords(self):\n",
    "        return origin.coords(self)\n",
    "\n",
    "    def perimeter(self):\n",
    "        return print(\"The perimeter is:\", self.__b+self.__h+math.sqrt(self.__b**2+self.__h**2))\n",
    "\n",
    "    def area(self):\n",
    "        return print(\"The area is:\", self.__b*self.__h/2)\n",
    "\n",
    "        \n",
    "\n",
    "triangle1 = triangle(4,5,6,7)\n",
    "\n",
    "triangle1.area()\n",
    "triangle1.perimeter()\n",
    "triangle1.coords()"
   ]
  },
  {
   "cell_type": "markdown",
   "metadata": {},
   "source": [
    "7. Add a function to the object classes that tests if a given set of $x$ and $y$ coordinates are inside of the object."
   ]
  },
  {
   "cell_type": "code",
   "execution_count": 27,
   "metadata": {},
   "outputs": [],
   "source": [
    "#Combining all classes above into one code\n",
    "\n",
    "class origin:\n",
    "    def __init__(self, x, y):\n",
    "        self.__x = x\n",
    "        self.__y = y\n",
    "\n",
    "    def coords(self):\n",
    "        return self.__x, self.__y\n",
    "\n",
    "class rectangle(origin):\n",
    "    def __init__(self, x, y, a, b):\n",
    "        super().__init__(x, y)\n",
    "        self.__a = a\n",
    "        self.__b = b\n",
    "\n",
    "    def perimeter(self):\n",
    "        return print(\"The perimeter is:\", 2*self.__a + 2*self.__b)\n",
    "\n",
    "    def area(self):\n",
    "        return print(\"The area is:\", self.__a*self.__b)\n",
    "\n",
    "    def is_inside(self, point_x, point_y):\n",
    "        x, y = self.coords()\n",
    "        return (x <= point_x <= x + self.__a) and (y <= point_y <= y + self.__b)\n",
    "\n",
    "class circle(origin):\n",
    "    def __init__(self, x, y, r):\n",
    "        super().__init__(x, y)\n",
    "        self.__r = r\n",
    "\n",
    "    def radius(self):\n",
    "        return print(\"The radius is: \", self.__r)\n",
    "\n",
    "    def perimeter(self):\n",
    "        return print(\"The perimeter is:\", 2*math.pi*self.__r)\n",
    "\n",
    "    def area(self):\n",
    "        return print(\"The area is:\", math.pi*self.__r**2)\n",
    "\n",
    "    def is_inside(self, point_x, point_y):\n",
    "        x, y = self.coords()\n",
    "        return math.sqrt((point_x - x)**2 + (point_y - y)**2) <= self.__r\n",
    "\n",
    "class triangle(origin):\n",
    "    def __init__(self, x, y, b, h):\n",
    "        super().__init__(x, y)\n",
    "        self.__b = b\n",
    "        self.__h = h\n",
    "\n",
    "    def perimeter(self):\n",
    "        return print(\"The perimeter is:\", self.__b+self.__h+math.sqrt(self.__b**2+self.__h**2))\n",
    "\n",
    "    def area(self):\n",
    "        return print(\"The area is:\", self.__b*self.__h/2)\n",
    "\n",
    "    #Support fuunctions for is_inside()\n",
    "    def vertex_A(self):\n",
    "        return self.coords()\n",
    "\n",
    "    def vertex_B(self):\n",
    "        x, y = self.coords()\n",
    "        return x + self.__b, y\n",
    "\n",
    "    def vertex_C(self):\n",
    "        x, y = self.coords()\n",
    "        return x + self.__b / 2, y + self.__h\n",
    "\n",
    "    def is_inside(self, point_x, point_y):\n",
    "        # Compute the barycentric coordinates of the point with respect to the triangle\n",
    "        x, y = self.coords()\n",
    "        b_x, h_y = self.vertex_B()\n",
    "        c_x, c_y = self.vertex_C()\n",
    "\n",
    "        det_T = (y - c_y) * (b_x - x) + (x - c_x) * (h_y - y)\n",
    "        alpha = ((point_y - c_y) * (b_x - x) + (x - c_x) * (h_y - y)) / det_T\n",
    "        beta = ((y - c_y) * (point_x - x) + (x - c_x) * (h_y - point_y)) / det_T\n",
    "        gamma = 1 - alpha - beta\n",
    "\n",
    "        # Check if the point is inside the triangle\n",
    "        return 0 <= alpha <= 1 and 0 <= beta <= 1 and 0 <= gamma <= 1\n",
    "        #This was the only way I found to do it. Sorry for the complication.\n",
    "\n",
    "triangle1 = triangle(4,5,6,7)\n",
    "circle1 = circle(4,5,6)\n",
    "rectangle1 = rectangle(4,5,6,7)"
   ]
  },
  {
   "cell_type": "code",
   "execution_count": 28,
   "metadata": {},
   "outputs": [
    {
     "data": {
      "text/plain": [
       "False"
      ]
     },
     "execution_count": 28,
     "metadata": {},
     "output_type": "execute_result"
    }
   ],
   "source": [
    "rectangle1.is_inside(1,1)"
   ]
  },
  {
   "cell_type": "code",
   "execution_count": 29,
   "metadata": {},
   "outputs": [
    {
     "data": {
      "text/plain": [
       "True"
      ]
     },
     "execution_count": 29,
     "metadata": {},
     "output_type": "execute_result"
    }
   ],
   "source": [
    "rectangle1.is_inside(5,5)"
   ]
  },
  {
   "cell_type": "code",
   "execution_count": 30,
   "metadata": {},
   "outputs": [
    {
     "data": {
      "text/plain": [
       "True"
      ]
     },
     "execution_count": 30,
     "metadata": {},
     "output_type": "execute_result"
    }
   ],
   "source": [
    "circle1.is_inside(1,1)"
   ]
  },
  {
   "cell_type": "code",
   "execution_count": 31,
   "metadata": {},
   "outputs": [
    {
     "data": {
      "text/plain": [
       "False"
      ]
     },
     "execution_count": 31,
     "metadata": {},
     "output_type": "execute_result"
    }
   ],
   "source": [
    "circle1.is_inside(10,10)"
   ]
  },
  {
   "cell_type": "code",
   "execution_count": 32,
   "metadata": {},
   "outputs": [
    {
     "data": {
      "text/plain": [
       "False"
      ]
     },
     "execution_count": 32,
     "metadata": {},
     "output_type": "execute_result"
    }
   ],
   "source": [
    "triangle1.is_inside(1,1)"
   ]
  },
  {
   "cell_type": "code",
   "execution_count": 33,
   "metadata": {},
   "outputs": [
    {
     "data": {
      "text/plain": [
       "True"
      ]
     },
     "execution_count": 33,
     "metadata": {},
     "output_type": "execute_result"
    }
   ],
   "source": [
    "triangle1.is_inside(10,10)"
   ]
  },
  {
   "cell_type": "markdown",
   "metadata": {},
   "source": [
    "8. Add a function to the object classes that return a list of up to 16 pairs of  $x$ and $y$ points on the parameter of the object.\n",
    "\n"
   ]
  },
  {
   "cell_type": "code",
   "execution_count": 35,
   "metadata": {},
   "outputs": [],
   "source": [
    "#Perimeter points at the end of each class\n",
    "\n",
    "class origin:\n",
    "    def __init__(self, x, y):\n",
    "        self.__x = x\n",
    "        self.__y = y\n",
    "\n",
    "    def coords(self):\n",
    "        return self.__x, self.__y\n",
    "\n",
    "class rectangle(origin):\n",
    "    def __init__(self, x, y, a, b):\n",
    "        super().__init__(x, y)\n",
    "        self.__a = a\n",
    "        self.__b = b\n",
    "\n",
    "    def perimeter(self):\n",
    "        return print(\"The perimeter is:\", 2*self.__a + 2*self.__b)\n",
    "\n",
    "    def area(self):\n",
    "        return print(\"The area is:\", self.__a*self.__b)\n",
    "\n",
    "    def is_inside(self, point_x, point_y):\n",
    "        x, y = self.coords()\n",
    "        return (x <= point_x <= x + self.__a) and (y <= point_y <= y + self.__b)\n",
    "\n",
    "    def parameter_points(self):\n",
    "        x, y = self.coords()\n",
    "        a, b = self.__a, self.__b\n",
    "        return [(x + i, y) for i in range(a)] + \\\n",
    "               [(x + a, y + j) for j in range(b)] + \\\n",
    "               [(x + a - i, y + b) for i in range(a)] + \\\n",
    "               [(x, y + b - j) for j in range(b)]\n",
    "\n",
    "class circle(origin):\n",
    "    def __init__(self, x, y, r):\n",
    "        super().__init__(x, y)\n",
    "        self.__r = r\n",
    "\n",
    "    def perimeter(self):\n",
    "        return print(\"The perimeter is:\", 2*math.pi*self.__r)\n",
    "\n",
    "    def area(self):\n",
    "        return print(\"The area is:\", math.pi*self.__r**2)\n",
    "\n",
    "    def is_inside(self, point_x, point_y):\n",
    "        x, y = self.coords()\n",
    "        return math.sqrt((point_x - x)**2 + (point_y - y)**2) <= self.__r\n",
    "\n",
    "    def parameter_points(self):\n",
    "        x, y = self.coords()\n",
    "        r = self.__r\n",
    "        points = []\n",
    "        for theta in range(0, 360, 360//16):\n",
    "            theta_rad = math.radians(theta)\n",
    "            points.append((x + r*math.cos(theta_rad), y + r*math.sin(theta_rad)))\n",
    "        return points\n",
    "\n",
    "class triangle(origin):\n",
    "    def __init__(self, x, y, b, h):\n",
    "        super().__init__(x, y)\n",
    "        self.__b = b\n",
    "        self.__h = h\n",
    "\n",
    "    def perimeter(self):\n",
    "        return print(\"The perimeter is:\", self.__b+self.__h+math.sqrt(self.__b**2+self.__h**2))\n",
    "\n",
    "    def area(self):\n",
    "        return print(\"The area is:\", self.__b*self.__h/2)\n",
    "\n",
    "    #Support fuunctions for is_inside()\n",
    "    def vertex_A(self):\n",
    "        return self.coords()\n",
    "\n",
    "    def vertex_B(self):\n",
    "        x, y = self.coords()\n",
    "        return x + self.__b, y\n",
    "\n",
    "    def vertex_C(self):\n",
    "        x, y = self.coords()\n",
    "        return x + self.__b / 2, y + self.__h\n",
    "\n",
    "    def is_inside(self, point_x, point_y):\n",
    "        # Compute the barycentric coordinates of the point with respect to the triangle\n",
    "        x, y = self.coords()\n",
    "        b_x, h_y = self.vertex_B()\n",
    "        c_x, c_y = self.vertex_C()\n",
    "\n",
    "        det_T = (y - c_y) * (b_x - x) + (x - c_x) * (h_y - y)\n",
    "        alpha = ((point_y - c_y) * (b_x - x) + (x - c_x) * (h_y - y)) / det_T\n",
    "        beta = ((y - c_y) * (point_x - x) + (x - c_x) * (h_y - point_y)) / det_T\n",
    "        gamma = 1 - alpha - beta\n",
    "\n",
    "        # Check if the point is inside the triangle\n",
    "        return 0 <= alpha <= 1 and 0 <= beta <= 1 and 0 <= gamma <= 1\n",
    "        #This was the only way I found to do it. Sorry for the complication.\n",
    "\n",
    "    def parameter_points(self):\n",
    "        x, y = self.coords()\n",
    "        b, h = self.__b, self.__h\n",
    "        return [(x + i, y + h) for i in range(b+1)] + \\\n",
    "               [(x + b - i, y) for i in range(b+1)] + \\\n",
    "               [(x, y + j) for j in range(h+1)]\n",
    "\n",
    "\n",
    "triangle1 = triangle(4,5,6,7)\n",
    "circle1 = circle(4,5,6)\n",
    "rectangle1 = rectangle(4,5,6,7)"
   ]
  },
  {
   "cell_type": "code",
   "execution_count": 36,
   "metadata": {},
   "outputs": [
    {
     "data": {
      "text/plain": [
       "[(4, 12),\n",
       " (5, 12),\n",
       " (6, 12),\n",
       " (7, 12),\n",
       " (8, 12),\n",
       " (9, 12),\n",
       " (10, 12),\n",
       " (10, 5),\n",
       " (9, 5),\n",
       " (8, 5),\n",
       " (7, 5),\n",
       " (6, 5),\n",
       " (5, 5),\n",
       " (4, 5),\n",
       " (4, 5),\n",
       " (4, 6),\n",
       " (4, 7),\n",
       " (4, 8),\n",
       " (4, 9),\n",
       " (4, 10),\n",
       " (4, 11),\n",
       " (4, 12)]"
      ]
     },
     "execution_count": 36,
     "metadata": {},
     "output_type": "execute_result"
    }
   ],
   "source": [
    "triangle1.parameter_points()"
   ]
  },
  {
   "cell_type": "code",
   "execution_count": 37,
   "metadata": {},
   "outputs": [
    {
     "data": {
      "text/plain": [
       "[(10.0, 5.0),\n",
       " (9.563103127400725, 7.247639560495472),\n",
       " (8.316038802031908, 9.167950222753984),\n",
       " (6.440419858454801, 10.481272745855605),\n",
       " (4.209396980215007, 10.996344962114573),\n",
       " (1.9478791400459876, 10.63815572471545),\n",
       " (-0.014783638153149425, 9.458868952864366),\n",
       " (-1.3927642777950027, 7.6302268807344635),\n",
       " (-1.9853843015589447, 5.418538842464753),\n",
       " (-1.7063390977709219, 3.145898033750316),\n",
       " (-0.5962666587138683, 1.1432743418807645),\n",
       " (1.1831706232846555, -0.29768555715356193),\n",
       " (3.3728292203940797, -0.9671313722096402),\n",
       " (5.653824134901996, -0.7675701756299125),\n",
       " (7.693968851953951, 0.27193547835966925),\n",
       " (9.19615242270663, 1.9999999999999973),\n",
       " (9.941608412449423, 4.164961394239604)]"
      ]
     },
     "execution_count": 37,
     "metadata": {},
     "output_type": "execute_result"
    }
   ],
   "source": [
    "circle1.parameter_points()"
   ]
  },
  {
   "cell_type": "code",
   "execution_count": 39,
   "metadata": {},
   "outputs": [
    {
     "data": {
      "text/plain": [
       "[(4, 12),\n",
       " (5, 12),\n",
       " (6, 12),\n",
       " (7, 12),\n",
       " (8, 12),\n",
       " (9, 12),\n",
       " (10, 12),\n",
       " (10, 5),\n",
       " (9, 5),\n",
       " (8, 5),\n",
       " (7, 5),\n",
       " (6, 5),\n",
       " (5, 5),\n",
       " (4, 5),\n",
       " (4, 5),\n",
       " (4, 6),\n",
       " (4, 7),\n",
       " (4, 8),\n",
       " (4, 9),\n",
       " (4, 10),\n",
       " (4, 11),\n",
       " (4, 12)]"
      ]
     },
     "execution_count": 39,
     "metadata": {},
     "output_type": "execute_result"
    }
   ],
   "source": [
    "triangle1.parameter_points()"
   ]
  },
  {
   "cell_type": "markdown",
   "metadata": {},
   "source": [
    "9. Add a function in the base class of the object classes that returns true/false testing that the object overlaps with another object."
   ]
  },
  {
   "cell_type": "code",
   "execution_count": 47,
   "metadata": {},
   "outputs": [],
   "source": [
    "#Overlap at the end of each class\n",
    "\n",
    "class origin:\n",
    "    def __init__(self, x, y):\n",
    "        self.__x = x\n",
    "        self.__y = y\n",
    "\n",
    "    def coords(self):\n",
    "        return self.__x, self.__y\n",
    "\n",
    "class rectangle(origin):\n",
    "    def __init__(self, x, y, a, b):\n",
    "        super().__init__(x, y)\n",
    "        self.__a = a\n",
    "        self.__b = b\n",
    "\n",
    "    def perimeter(self):\n",
    "        return print(\"The perimeter is:\", 2*self.__a + 2*self.__b)\n",
    "\n",
    "    def area(self):\n",
    "        return print(\"The area is:\", self.__a*self.__b)\n",
    "\n",
    "    def is_inside(self, point_x, point_y):\n",
    "        x, y = self.coords()\n",
    "        return (x <= point_x <= x + self.__a) and (y <= point_y <= y + self.__b)\n",
    "\n",
    "    def parameter_points(self):\n",
    "        x, y = self.coords()\n",
    "        a, b = self.__a, self.__b\n",
    "        return [(x + i, y) for i in range(a)] + \\\n",
    "               [(x + a, y + j) for j in range(b)] + \\\n",
    "               [(x + a - i, y + b) for i in range(a)] + \\\n",
    "               [(x, y + b - j) for j in range(b)]\n",
    "\n",
    "    #Tbh don't know how to test this.\n",
    "    #Here the premise is that if the lines of the shapes interset, then they overlap and return true.\n",
    "    #This will be the same premise for the other two codes.\n",
    "    def overlaps(self, other):\n",
    "        if isinstance(other, rectangle):\n",
    "            return any(self.coords()[0] <= point[0] <= self.coords()[0] + self.__a and self.coords()[1] <= point[1] <= self.coords()[1] + self.__b for point in other.parameter_points()) or \\\n",
    "                   any(other.coords()[0] <= point[0] <= other.coords()[0] + other.__a and other.coords()[1] <= point[1] <= other.coords()[1] + other.__b for point in self.parameter_points())\n",
    "        elif isinstance(other, circle):\n",
    "            x, y = other.coords()\n",
    "            r = other._circle__r\n",
    "            return any(math.sqrt((x - point[0])**2 + (y - point[1])**2) <= r for point in self.parameter_points()) or \\\n",
    "                   any(x - r <= point[0] <= x + r and y - r <= point[1] <= y + r for point in self.parameter_points())\n",
    "        elif isinstance(other, triangle):\n",
    "            return any(self.coords()[0] <= point[0] <= self.coords()[0] + self.__a and self.coords()[1] <= point[1] <= self.coords()[1] + self.__b for point in other.parameter_points()) or \\\n",
    "                   any(other.is_inside(point[0], point[1]) for point in self.parameter_points())\n",
    "        else:\n",
    "            return False\n",
    "\n",
    "class circle(origin):\n",
    "    def __init__(self, x, y, r):\n",
    "        super().__init__(x, y)\n",
    "        self.__r = r\n",
    "\n",
    "    def perimeter(self):\n",
    "        return print(\"The perimeter is:\", 2*math.pi*self.__r)\n",
    "\n",
    "    def area(self):\n",
    "        return print(\"The area is:\", math.pi*self.__r**2)\n",
    "\n",
    "    def is_inside(self, point_x, point_y):\n",
    "        x, y = self.coords()\n",
    "        return math.sqrt((point_x - x)**2 + (point_y - y)**2) <= self.__r\n",
    "\n",
    "    def parameter_points(self):\n",
    "        x, y = self.coords()\n",
    "        r = self.__r\n",
    "        points = []\n",
    "        for theta in range(0, 360, 360//16):\n",
    "            theta_rad = math.radians(theta)\n",
    "            points.append((x + r*math.cos(theta_rad), y + r*math.sin(theta_rad)))\n",
    "        return points\n",
    "\n",
    "    \n",
    "    def overlaps(self, other):\n",
    "        # Check if the distance between the centers is less than the sum of the radii.\n",
    "        if isinstance(other, circle):\n",
    "            return math.sqrt((self.coords()[0] - other.coords()[0])**2 + (self.coords()[1] - other.coords()[1])**2) < self.__r + other.__r\n",
    "        elif isinstance(other, (rectangle, triangle)):\n",
    "            # Check if any vertex of the other shape is inside the circle\n",
    "            for point in other.parameter_points():\n",
    "                if math.sqrt((self.coords()[0] - point[0])**2 + (self.coords()[1] - point[1])**2) <= self.__r:\n",
    "                    return True\n",
    "            # Check if any point on the circumference of the circle is inside the other shape\n",
    "            x, y = self.coords()\n",
    "            for i in range(-self.__r, self.__r+1):\n",
    "                for j in range(-self.__r, self.__r+1):\n",
    "                    if other.is_inside(x + i, y + j):\n",
    "                        return True\n",
    "            return False\n",
    "        else:\n",
    "            return False\n",
    "\n",
    "class triangle(origin):\n",
    "    def __init__(self, x, y, b, h):\n",
    "        super().__init__(x, y)\n",
    "        self.__b = b\n",
    "        self.__h = h\n",
    "\n",
    "    def perimeter(self):\n",
    "        return print(\"The perimeter is:\", self.__b+self.__h+math.sqrt(self.__b**2+self.__h**2))\n",
    "\n",
    "    def area(self):\n",
    "        return print(\"The area is:\", self.__b*self.__h/2)\n",
    "\n",
    "    #Support fuunctions for is_inside()\n",
    "    def vertex_A(self):\n",
    "        return self.coords()\n",
    "\n",
    "    def vertex_B(self):\n",
    "        x, y = self.coords()\n",
    "        return x + self.__b, y\n",
    "\n",
    "    def vertex_C(self):\n",
    "        x, y = self.coords()\n",
    "        return x + self.__b / 2, y + self.__h\n",
    "\n",
    "    def is_inside(self, point_x, point_y):\n",
    "        # Compute the barycentric coordinates of the point with respect to the triangle\n",
    "        x, y = self.coords()\n",
    "        b_x, h_y = self.vertex_B()\n",
    "        c_x, c_y = self.vertex_C()\n",
    "\n",
    "        det_T = (y - c_y) * (b_x - x) + (x - c_x) * (h_y - y)\n",
    "        alpha = ((point_y - c_y) * (b_x - x) + (x - c_x) * (h_y - y)) / det_T\n",
    "        beta = ((y - c_y) * (point_x - x) + (x - c_x) * (h_y - point_y)) / det_T\n",
    "        gamma = 1 - alpha - beta\n",
    "\n",
    "        # Check if the point is inside the triangle\n",
    "        return 0 <= alpha <= 1 and 0 <= beta <= 1 and 0 <= gamma <= 1\n",
    "        #This was the only way I found to do it. Sorry for the complication.\n",
    "\n",
    "    def parameter_points(self):\n",
    "        x, y = self.coords()\n",
    "        b, h = self.__b, self.__h\n",
    "        return [(x + i, y + h) for i in range(b+1)] + \\\n",
    "               [(x + b - i, y) for i in range(b+1)] + \\\n",
    "               [(x, y + j) for j in range(h+1)]\n",
    "\n",
    "    def overlaps(self, other):\n",
    "        # For simplicity, let's consider triangles to overlap if any of their vertices are inside the other triangle\n",
    "        for point in other.parameter_points():\n",
    "            if self.is_inside(point[0], point[1]):\n",
    "                return True\n",
    "        for point in self.parameter_points():\n",
    "            if other.is_inside(point[0], point[1]):\n",
    "                return True\n",
    "        return False\n",
    "\n",
    "triangle1 = triangle(4,5,6,7)\n",
    "circle1 = circle(4,5,6)\n",
    "rectangle1 = rectangle(4,5,6,7)"
   ]
  },
  {
   "cell_type": "code",
   "execution_count": 48,
   "metadata": {},
   "outputs": [
    {
     "data": {
      "text/plain": [
       "True"
      ]
     },
     "execution_count": 48,
     "metadata": {},
     "output_type": "execute_result"
    }
   ],
   "source": [
    "triangle1.overlaps(circle1)"
   ]
  },
  {
   "cell_type": "code",
   "execution_count": 49,
   "metadata": {},
   "outputs": [
    {
     "data": {
      "text/plain": [
       "True"
      ]
     },
     "execution_count": 49,
     "metadata": {},
     "output_type": "execute_result"
    }
   ],
   "source": [
    "circle1.overlaps(rectangle1)"
   ]
  },
  {
   "cell_type": "code",
   "execution_count": 50,
   "metadata": {},
   "outputs": [
    {
     "data": {
      "text/plain": [
       "True"
      ]
     },
     "execution_count": 50,
     "metadata": {},
     "output_type": "execute_result"
    }
   ],
   "source": [
    "rectangle1.overlaps(triangle1)"
   ]
  },
  {
   "cell_type": "markdown",
   "metadata": {},
   "source": [
    "10. Copy the `Canvas` class from lecture to in a python file creating a `paint` module. Copy your classes from above into the module and implement paint functions. Implement a `CompoundShape` class. Create a simple drawing demonstrating that all of your classes are working."
   ]
  },
  {
   "cell_type": "markdown",
   "metadata": {},
   "source": []
  },
  {
   "cell_type": "markdown",
   "metadata": {},
   "source": [
    "11. Create a `RasterDrawing` class. Demonstrate that you can create a drawing made of several shapes, paint the drawing, modify the drawing, and paint it again. "
   ]
  },
  {
   "cell_type": "code",
   "execution_count": null,
   "metadata": {},
   "outputs": [],
   "source": []
  },
  {
   "cell_type": "markdown",
   "metadata": {},
   "source": [
    "12. Implement the ability to load/save raster drawings and demonstate that your method works. One way to implement this ability:\n",
    "\n",
    "   * Overload `__repr__` functions of all objects to return strings of the python code that would construct the object.\n",
    "   \n",
    "   * In the save method of raster drawing class, store the representations into the file.\n",
    "   * Write a loader function that reads the file and uses `eval` to instantiate the object.\n",
    "\n",
    "For example:"
   ]
  },
  {
   "cell_type": "code",
   "execution_count": null,
   "metadata": {},
   "outputs": [],
   "source": [
    "class foo:\n",
    "    def __init__(self,a,b=None):\n",
    "        self.a=a\n",
    "        self.b=b\n",
    "        \n",
    "    def __repr__(self):\n",
    "        return \"foo(\"+repr(self.a)+\",\"+repr(self.b)+\")\"\n",
    "    \n",
    "    def save(self,filename):\n",
    "        f=open(filename,\"w\")\n",
    "        f.write(self.__repr__())\n",
    "        f.close()\n",
    "        \n",
    "   \n",
    "def foo_loader(filename):\n",
    "    f=open(filename,\"r\")\n",
    "    tmp=eval(f.read())\n",
    "    f.close()\n",
    "    return tmp\n"
   ]
  },
  {
   "cell_type": "code",
   "execution_count": null,
   "metadata": {},
   "outputs": [],
   "source": [
    "# Test\n",
    "print(repr(foo(1,\"hello\")))"
   ]
  },
  {
   "cell_type": "code",
   "execution_count": null,
   "metadata": {},
   "outputs": [],
   "source": [
    "# Create an object and save it\n",
    "ff=foo(1,\"hello\")\n",
    "ff.save(\"Test.foo\")"
   ]
  },
  {
   "cell_type": "code",
   "execution_count": null,
   "metadata": {},
   "outputs": [],
   "source": [
    "# Check contents of the saved file\n",
    "!cat Test.foo"
   ]
  },
  {
   "cell_type": "code",
   "execution_count": null,
   "metadata": {},
   "outputs": [],
   "source": [
    "# Load the object\n",
    "ff_reloaded=foo_loader(\"Test.foo\")\n",
    "ff_reloaded"
   ]
  },
  {
   "cell_type": "code",
   "execution_count": null,
   "metadata": {},
   "outputs": [],
   "source": []
  },
  {
   "cell_type": "code",
   "execution_count": null,
   "metadata": {},
   "outputs": [],
   "source": []
  }
 ],
 "metadata": {
  "kernelspec": {
   "display_name": "Python 3 (ipykernel)",
   "language": "python",
   "name": "python3"
  },
  "language_info": {
   "codemirror_mode": {
    "name": "ipython",
    "version": 3
   },
   "file_extension": ".py",
   "mimetype": "text/x-python",
   "name": "python",
   "nbconvert_exporter": "python",
   "pygments_lexer": "ipython3",
   "version": "3.8.10"
  }
 },
 "nbformat": 4,
 "nbformat_minor": 4
}
